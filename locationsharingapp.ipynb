{
 "cells": [
  {
   "cell_type": "code",
   "execution_count": 1,
   "metadata": {},
   "outputs": [],
   "source": [
    "import locationsharinglib\n",
    "from locationsharinglib import Service\n",
    "cookies_file = 'C:\\\\Training\\\\Python37\\\\Scripts\\\\cookies.txt'\n",
    "google_email = 'ramanraghu998@gmail.com'\n",
    "service = Service(cookies_file=cookies_file, authenticating_account=google_email)\n",
    "#for person in service.get_all_people():\n",
    "#    print(person)"
   ]
  },
  {
   "cell_type": "code",
   "execution_count": 12,
   "metadata": {},
   "outputs": [],
   "source": [
    "import pypyodbc"
   ]
  },
  {
   "cell_type": "code",
   "execution_count": 2,
   "metadata": {},
   "outputs": [
    {
     "name": "stdout",
     "output_type": "stream",
     "text": [
      "Full name        :Rushik Parmar\n",
      "Nickname         :Rushik\n",
      "Current location :MIDC INDL Area, Airoli, Navi Mumbai, Maharashtra 400708, India\n",
      "Latitude         :19.1620084\n",
      "Longitude        :73.0010251\n",
      "Datetime         :2019-12-23 07:36:12.501000+00:00\n",
      "Charging         :False\n",
      "Battery %        :80\n",
      "Accuracy         :26\n"
     ]
    }
   ],
   "source": [
    "for person in service.get_all_people():\n",
    "    print(person)"
   ]
  },
  {
   "cell_type": "code",
   "execution_count": 7,
   "metadata": {},
   "outputs": [],
   "source": [
    "import pandas as pd"
   ]
  },
  {
   "cell_type": "code",
   "execution_count": 8,
   "metadata": {},
   "outputs": [
    {
     "data": {
      "text/plain": [
       "[['Ameya Deshmukh', 'VIKALP UNIYAL'],\n",
       " ['MIDC INDL Area, Airoli, Navi Mumbai, Maharashtra 400708, India',\n",
       "  'Chinch Pada, 492, Thane - Belapur Rd, Chinch Pada, Airoli Naka, Airoli, Navi Mumbai, Maharashtra 400708, India'],\n",
       " [19.1619993, 19.1621451],\n",
       " [73.0010166, 73.001118],\n",
       " [datetime.datetime(2019, 12, 19, 6, 51, 25, 131000, tzinfo=<UTC>),\n",
       "  datetime.datetime(2019, 12, 19, 6, 52, 0, 935000, tzinfo=<UTC>)]]"
      ]
     },
     "execution_count": 8,
     "metadata": {},
     "output_type": "execute_result"
    }
   ],
   "source": [
    "names = []\n",
    "address = []\n",
    "latitude = []\n",
    "longitude = []\n",
    "datetime = []\n",
    "listoflists = []\n",
    "for person in service.get_all_people():\n",
    "    names.append(person.full_name)\n",
    "    address.append(person.address)\n",
    "    latitude.append(person.latitude)\n",
    "    longitude.append(person.longitude)\n",
    "    datetime.append(person.datetime)\n",
    "listoflists.append(names)\n",
    "listoflists.append(address)\n",
    "listoflists.append(latitude)\n",
    "listoflists.append(longitude)\n",
    "listoflists.append(datetime)\n",
    "listoflists"
   ]
  },
  {
   "cell_type": "code",
   "execution_count": 9,
   "metadata": {},
   "outputs": [],
   "source": [
    "import numpy as np\n",
    "l=np.array(listoflists).T.tolist()"
   ]
  },
  {
   "cell_type": "code",
   "execution_count": 10,
   "metadata": {},
   "outputs": [
    {
     "data": {
      "text/html": [
       "<div>\n",
       "<style scoped>\n",
       "    .dataframe tbody tr th:only-of-type {\n",
       "        vertical-align: middle;\n",
       "    }\n",
       "\n",
       "    .dataframe tbody tr th {\n",
       "        vertical-align: top;\n",
       "    }\n",
       "\n",
       "    .dataframe thead th {\n",
       "        text-align: right;\n",
       "    }\n",
       "</style>\n",
       "<table border=\"1\" class=\"dataframe\">\n",
       "  <thead>\n",
       "    <tr style=\"text-align: right;\">\n",
       "      <th></th>\n",
       "      <th>Name</th>\n",
       "      <th>Location</th>\n",
       "      <th>Latitude</th>\n",
       "      <th>Longitude</th>\n",
       "      <th>datetime</th>\n",
       "    </tr>\n",
       "  </thead>\n",
       "  <tbody>\n",
       "    <tr>\n",
       "      <th>0</th>\n",
       "      <td>Ameya Deshmukh</td>\n",
       "      <td>MIDC INDL Area, Airoli, Navi Mumbai, Maharasht...</td>\n",
       "      <td>19.161999</td>\n",
       "      <td>73.001017</td>\n",
       "      <td>2019-12-19 06:51:25.131000+00:00</td>\n",
       "    </tr>\n",
       "    <tr>\n",
       "      <th>1</th>\n",
       "      <td>VIKALP UNIYAL</td>\n",
       "      <td>Chinch Pada, 492, Thane - Belapur Rd, Chinch P...</td>\n",
       "      <td>19.162145</td>\n",
       "      <td>73.001118</td>\n",
       "      <td>2019-12-19 06:52:00.935000+00:00</td>\n",
       "    </tr>\n",
       "  </tbody>\n",
       "</table>\n",
       "</div>"
      ],
      "text/plain": [
       "             Name                                           Location  \\\n",
       "0  Ameya Deshmukh  MIDC INDL Area, Airoli, Navi Mumbai, Maharasht...   \n",
       "1   VIKALP UNIYAL  Chinch Pada, 492, Thane - Belapur Rd, Chinch P...   \n",
       "\n",
       "    Latitude  Longitude                         datetime  \n",
       "0  19.161999  73.001017 2019-12-19 06:51:25.131000+00:00  \n",
       "1  19.162145  73.001118 2019-12-19 06:52:00.935000+00:00  "
      ]
     },
     "execution_count": 10,
     "metadata": {},
     "output_type": "execute_result"
    }
   ],
   "source": [
    "df = pd.DataFrame(l,columns = ['Name' , 'Location','Latitude','Longitude','datetime']) \n",
    "df"
   ]
  },
  {
   "cell_type": "code",
   "execution_count": 32,
   "metadata": {},
   "outputs": [
    {
     "data": {
      "text/html": [
       "<div>\n",
       "<style scoped>\n",
       "    .dataframe tbody tr th:only-of-type {\n",
       "        vertical-align: middle;\n",
       "    }\n",
       "\n",
       "    .dataframe tbody tr th {\n",
       "        vertical-align: top;\n",
       "    }\n",
       "\n",
       "    .dataframe thead th {\n",
       "        text-align: right;\n",
       "    }\n",
       "</style>\n",
       "<table border=\"1\" class=\"dataframe\">\n",
       "  <thead>\n",
       "    <tr style=\"text-align: right;\">\n",
       "      <th></th>\n",
       "      <th>Name</th>\n",
       "      <th>Location</th>\n",
       "      <th>Latitude</th>\n",
       "      <th>Longitude</th>\n",
       "      <th>datetime</th>\n",
       "      <th>ist</th>\n",
       "    </tr>\n",
       "  </thead>\n",
       "  <tbody>\n",
       "    <tr>\n",
       "      <th>0</th>\n",
       "      <td>Ameya Deshmukh</td>\n",
       "      <td>MIDC INDL Area, Airoli, Navi Mumbai, Maharasht...</td>\n",
       "      <td>19.161999</td>\n",
       "      <td>73.001017</td>\n",
       "      <td>2019-12-19 06:51:25.131000+00:00</td>\n",
       "      <td>2019-12-19 12:21:25.131000+05:30</td>\n",
       "    </tr>\n",
       "    <tr>\n",
       "      <th>1</th>\n",
       "      <td>VIKALP UNIYAL</td>\n",
       "      <td>Chinch Pada, 492, Thane - Belapur Rd, Chinch P...</td>\n",
       "      <td>19.162145</td>\n",
       "      <td>73.001118</td>\n",
       "      <td>2019-12-19 06:52:00.935000+00:00</td>\n",
       "      <td>2019-12-19 12:22:00.935000+05:30</td>\n",
       "    </tr>\n",
       "  </tbody>\n",
       "</table>\n",
       "</div>"
      ],
      "text/plain": [
       "             Name                                           Location  \\\n",
       "0  Ameya Deshmukh  MIDC INDL Area, Airoli, Navi Mumbai, Maharasht...   \n",
       "1   VIKALP UNIYAL  Chinch Pada, 492, Thane - Belapur Rd, Chinch P...   \n",
       "\n",
       "    Latitude  Longitude                         datetime  \\\n",
       "0  19.161999  73.001017 2019-12-19 06:51:25.131000+00:00   \n",
       "1  19.162145  73.001118 2019-12-19 06:52:00.935000+00:00   \n",
       "\n",
       "                               ist  \n",
       "0 2019-12-19 12:21:25.131000+05:30  \n",
       "1 2019-12-19 12:22:00.935000+05:30  "
      ]
     },
     "execution_count": 32,
     "metadata": {},
     "output_type": "execute_result"
    }
   ],
   "source": [
    "from datetime import datetime\n",
    "from dateutil import tz\n",
    "df['ist'] = df['datetime'].dt.tz_convert('Asia/Kolkata')\n",
    "df"
   ]
  }
 ],
 "metadata": {
  "kernelspec": {
   "display_name": "Python 3",
   "language": "python",
   "name": "python3"
  },
  "language_info": {
   "codemirror_mode": {
    "name": "ipython",
    "version": 3
   },
   "file_extension": ".py",
   "mimetype": "text/x-python",
   "name": "python",
   "nbconvert_exporter": "python",
   "pygments_lexer": "ipython3",
   "version": "3.7.2"
  }
 },
 "nbformat": 4,
 "nbformat_minor": 2
}
